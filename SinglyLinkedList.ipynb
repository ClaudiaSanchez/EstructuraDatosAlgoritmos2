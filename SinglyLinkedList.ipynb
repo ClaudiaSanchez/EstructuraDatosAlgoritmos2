{
 "cells": [
  {
   "cell_type": "markdown",
   "metadata": {},
   "source": [
    "# Singly Linked List\n",
    "# Lista simplemente ligada"
   ]
  },
  {
   "cell_type": "code",
   "execution_count": 29,
   "metadata": {},
   "outputs": [
    {
     "name": "stdout",
     "output_type": "stream",
     "text": [
      "\n"
     ]
    }
   ],
   "source": [
    "class Node:\n",
    "    def __init__(self,data):\n",
    "        self.next = None\n",
    "        self.data = data\n",
    "    \n",
    "    def __str__(self):\n",
    "        s = str(self.data)\n",
    "        s += \" &:\"+str(hex(id(self)))\n",
    "        s += \" next:\"+str(hex(id(self.next)))\n",
    "        return s        "
   ]
  },
  {
   "cell_type": "code",
   "execution_count": 36,
   "metadata": {},
   "outputs": [
    {
     "name": "stdout",
     "output_type": "stream",
     "text": [
      "3 &:0x1490a9ee348 next:0x1490a9e5b48, 9 &:0x1490a9e5b48 next:0x1490a99e7c8, 1 &:0x1490a99e7c8 next:0x1490aa87f48, 12 &:0x1490aa87f48 next:0x7fff7ca05ce0, \n"
     ]
    }
   ],
   "source": [
    "class SinglyLinkedList:\n",
    "    def __init__(self):\n",
    "        self.first = None\n",
    "    \n",
    "    def insert(self, data):\n",
    "        n = Node(data)\n",
    "        if self.first is None:\n",
    "            self.first = n\n",
    "        else:\n",
    "            aux = self.first\n",
    "            while aux.next is not None:\n",
    "                aux = aux.next\n",
    "            aux.next = n\n",
    "    \n",
    "    def __str__(self):\n",
    "        if self.first is None:\n",
    "            return \"[]\"\n",
    "        else:\n",
    "            aux = self.first\n",
    "            s = \"\"\n",
    "            while aux is not None:\n",
    "                s += aux.__str__() + \", \"\n",
    "                aux = aux.next\n",
    "            return s\n",
    "\n",
    "l = SinglyLinkedList()\n",
    "l.insert(3)\n",
    "l.insert(9)\n",
    "l.insert(1)\n",
    "l.insert(12)\n",
    "print(l)"
   ]
  },
  {
   "cell_type": "code",
   "execution_count": null,
   "metadata": {},
   "outputs": [],
   "source": []
  }
 ],
 "metadata": {
  "kernelspec": {
   "display_name": "Python 3",
   "language": "python",
   "name": "python3"
  },
  "language_info": {
   "codemirror_mode": {
    "name": "ipython",
    "version": 3
   },
   "file_extension": ".py",
   "mimetype": "text/x-python",
   "name": "python",
   "nbconvert_exporter": "python",
   "pygments_lexer": "ipython3",
   "version": "3.7.6"
  }
 },
 "nbformat": 4,
 "nbformat_minor": 4
}
