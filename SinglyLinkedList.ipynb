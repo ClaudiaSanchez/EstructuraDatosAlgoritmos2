{
 "cells": [
  {
   "cell_type": "markdown",
   "metadata": {},
   "source": [
    "# Singly Linked List\n",
    "# Lista simplemente ligada"
   ]
  },
  {
   "cell_type": "code",
   "execution_count": 2,
   "metadata": {},
   "outputs": [
    {
     "name": "stdout",
     "output_type": "stream",
     "text": [
      "5\n"
     ]
    }
   ],
   "source": [
    "class Node:\n",
    "    def __init__(self,data=0):\n",
    "        self.next = None\n",
    "        self.data = data\n",
    "    def __str__(self):\n",
    "        return str(self.data)"
   ]
  },
  {
   "cell_type": "code",
   "execution_count": 18,
   "metadata": {},
   "outputs": [
    {
     "name": "stdout",
     "output_type": "stream",
     "text": [
      "[5,20,10,6,]\n"
     ]
    }
   ],
   "source": [
    "class SinglyLinkedList:\n",
    "    def __init__(self):\n",
    "        self.head = None\n",
    "        \n",
    "    def __str__(self):\n",
    "        if self.head is None:\n",
    "            return \"[]\"\n",
    "        else:\n",
    "            s = \"[\"\n",
    "            aux = self.head\n",
    "            while aux is not None:\n",
    "                s+= aux.__str__() + \",\"\n",
    "                aux = aux.next\n",
    "            s+=\"]\"\n",
    "            return s\n",
    "    \n",
    "    def insert_head(self,data):\n",
    "        n = Node(data)\n",
    "        if self.head is None:\n",
    "            self.head = n\n",
    "        else:\n",
    "            # Opción 1\n",
    "            aux = self.head\n",
    "            self.head = n\n",
    "            self.head.next = aux\n",
    "            ### Opción 2\n",
    "            ## n.next = self.head\n",
    "            ## self.head = n\n",
    "            \n",
    "    \n",
    "    def insert_tail(self,data):\n",
    "        n = Node(data)\n",
    "        if self.head is None:\n",
    "            self.head = n\n",
    "        else:\n",
    "            aux = self.head\n",
    "            while aux.next is not None:\n",
    "                aux = aux.next\n",
    "            aux.next = n\n",
    "    \n",
    "    def remove(self,data):\n",
    "        # Eliminar el primer nodo que se encuentre cuyo valor sea data\n",
    "        pass\n",
    "    \n",
    "    def reverse(self):\n",
    "        pass\n",
    "\n",
    "l = SinglyLinkedList()\n",
    "l.insert_head(6)\n",
    "l.insert_head(10)\n",
    "l.insert_head(20)\n",
    "l.insert_head(5)\n",
    "print(l)"
   ]
  },
  {
   "cell_type": "code",
   "execution_count": null,
   "metadata": {},
   "outputs": [],
   "source": []
  },
  {
   "cell_type": "code",
   "execution_count": null,
   "metadata": {},
   "outputs": [],
   "source": []
  }
 ],
 "metadata": {
  "kernelspec": {
   "display_name": "Python 3",
   "language": "python",
   "name": "python3"
  },
  "language_info": {
   "codemirror_mode": {
    "name": "ipython",
    "version": 3
   },
   "file_extension": ".py",
   "mimetype": "text/x-python",
   "name": "python",
   "nbconvert_exporter": "python",
   "pygments_lexer": "ipython3",
   "version": "3.7.6"
  }
 },
 "nbformat": 4,
 "nbformat_minor": 4
}
