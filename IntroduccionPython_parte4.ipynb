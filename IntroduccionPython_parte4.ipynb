{
 "cells": [
  {
   "cell_type": "code",
   "execution_count": 63,
   "metadata": {},
   "outputs": [
    {
     "name": "stdout",
     "output_type": "stream",
     "text": [
      "Nallely Sanchez\n"
     ]
    }
   ],
   "source": [
    "class Persona:\n",
    "    def __init__(self,nombre='',apellido='',edad=0):\n",
    "        self.__edad = edad\n",
    "        self.__nombre = nombre\n",
    "        self.__apellido = apellido\n",
    "    \n",
    "    @property\n",
    "    def edad(self):\n",
    "        return self.__edad\n",
    "    @edad.setter\n",
    "    def edad(self,v):\n",
    "        if isinstance(v,int):\n",
    "            self.__edad = abs(v)\n",
    "        else:\n",
    "            print('Error al asignar la edad, el valor recibido no es \"int\"')\n",
    "            \n",
    "    @property\n",
    "    def nombre(self):\n",
    "        return self.__nombre\n",
    "    @nombre.setter\n",
    "    def nombre(self,v):\n",
    "        if isinstance(v,str):\n",
    "            self.__nombre = v\n",
    "        else:\n",
    "            print('Error al asignar el nombre, el valor recibido no es \"str\"')\n",
    "            \n",
    "    @property\n",
    "    def apellido(self):\n",
    "        return self.__apellido\n",
    "    @apellido.setter\n",
    "    def apellido(self,v):\n",
    "        if isinstance(v,str):\n",
    "            self.__apellido = v\n",
    "        else:\n",
    "            print('Error al asignar el apellido, el valor recibido no es \"str\"')\n",
    "    \n",
    "    def obtener_nombre_completo(self):\n",
    "        return self.__nombre +\" \"+ self.__apellido\n",
    "        \n",
    "    def __str__(self):\n",
    "        s = ' edad:'+str(self.__edad)\n",
    "        s +=' nombre:'+str(self.__nombre)\n",
    "        s +=' apellido:'+str(self.__apellido)\n",
    "        return s\n",
    "\n",
    "p = Persona()\n",
    "p.edad = 20\n",
    "p.nombre = 'Nallely'\n",
    "p.apellido = 'Sanchez'\n",
    "print( p.obtener_nombre_completo() )"
   ]
  },
  {
   "cell_type": "code",
   "execution_count": 75,
   "metadata": {},
   "outputs": [
    {
     "name": "stdout",
     "output_type": "stream",
     "text": [
      "clau sanchez 20 salario:9000\n"
     ]
    }
   ],
   "source": [
    "class Empleado(Persona):\n",
    "    def __init__(self,nombre='',apellido='',edad=0,salario=0):\n",
    "        Persona.__init__(self,nombre=nombre,apellido=apellido,edad=edad)\n",
    "        self.__salario = salario\n",
    "        \n",
    "    @property\n",
    "    def salario(self):\n",
    "        return self.__salario\n",
    "    @salario.setter\n",
    "    def salario(self,v):\n",
    "        if isinstance(v,int):\n",
    "            self.__salario = abs(v)\n",
    "        else:\n",
    "            print('Error al asignar el salario, el valor recibido no es \"int\"')\n",
    "        \n",
    "    def __str__(self):\n",
    "        #return self.nombre+\" \"+self.apellido+\" \"+str(self.edad)+\" salario:\"+str(self.__salario)\n",
    "        return self.obtener_nombre_completo()+\" \"+str(self.edad)+\" salario:\"+str(self.salario)\n",
    "\n",
    "e = Empleado('clau','sanchez',20,300)\n",
    "e.salario = 9000\n",
    "print(e)\n",
    "    "
   ]
  },
  {
   "cell_type": "code",
   "execution_count": null,
   "metadata": {},
   "outputs": [],
   "source": []
  }
 ],
 "metadata": {
  "kernelspec": {
   "display_name": "Python 3",
   "language": "python",
   "name": "python3"
  },
  "language_info": {
   "codemirror_mode": {
    "name": "ipython",
    "version": 3
   },
   "file_extension": ".py",
   "mimetype": "text/x-python",
   "name": "python",
   "nbconvert_exporter": "python",
   "pygments_lexer": "ipython3",
   "version": "3.7.6"
  }
 },
 "nbformat": 4,
 "nbformat_minor": 4
}
