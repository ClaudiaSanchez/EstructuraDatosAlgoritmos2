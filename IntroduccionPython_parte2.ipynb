{
 "cells": [
  {
   "cell_type": "markdown",
   "metadata": {},
   "source": [
    "## Listas"
   ]
  },
  {
   "cell_type": "code",
   "execution_count": 3,
   "metadata": {},
   "outputs": [
    {
     "name": "stdout",
     "output_type": "stream",
     "text": [
      "['string', 9, 3.2, 8, 2, 1, 'a']\n"
     ]
    }
   ],
   "source": [
    "lista = ['string',9,3.2,8,2,1,'a']\n",
    "print(lista)"
   ]
  },
  {
   "cell_type": "code",
   "execution_count": 6,
   "metadata": {},
   "outputs": [
    {
     "name": "stdout",
     "output_type": "stream",
     "text": [
      "9\n",
      "a\n"
     ]
    }
   ],
   "source": [
    "print(lista[1])\n",
    "print(lista[-1])"
   ]
  },
  {
   "cell_type": "code",
   "execution_count": 8,
   "metadata": {},
   "outputs": [
    {
     "name": "stdout",
     "output_type": "stream",
     "text": [
      "[3.2, 8]\n",
      "[3.2, 8]\n"
     ]
    }
   ],
   "source": [
    "lista2 = lista[2:4]\n",
    "print(lista[2:4])\n",
    "print(lista2)"
   ]
  },
  {
   "cell_type": "markdown",
   "metadata": {},
   "source": [
    "### append()"
   ]
  },
  {
   "cell_type": "code",
   "execution_count": 9,
   "metadata": {},
   "outputs": [
    {
     "name": "stdout",
     "output_type": "stream",
     "text": [
      "['a', 'b', 'c']\n"
     ]
    }
   ],
   "source": [
    "listaA = ['a','b','c']\n",
    "print(listaA)"
   ]
  },
  {
   "cell_type": "code",
   "execution_count": 10,
   "metadata": {},
   "outputs": [
    {
     "name": "stdout",
     "output_type": "stream",
     "text": [
      "['a', 'b', 'c', 'd']\n"
     ]
    }
   ],
   "source": [
    "listaA.append('d')\n",
    "print(listaA)"
   ]
  },
  {
   "cell_type": "markdown",
   "metadata": {},
   "source": [
    "### clear()"
   ]
  },
  {
   "cell_type": "code",
   "execution_count": 12,
   "metadata": {},
   "outputs": [
    {
     "name": "stdout",
     "output_type": "stream",
     "text": [
      "['a', 'b', 'c']\n"
     ]
    }
   ],
   "source": [
    "listaA = ['a','b','c']\n",
    "print(listaA)"
   ]
  },
  {
   "cell_type": "code",
   "execution_count": 13,
   "metadata": {},
   "outputs": [
    {
     "name": "stdout",
     "output_type": "stream",
     "text": [
      "[]\n"
     ]
    }
   ],
   "source": [
    "listaA.clear()\n",
    "print(listaA)"
   ]
  },
  {
   "cell_type": "markdown",
   "metadata": {},
   "source": [
    "### copy()"
   ]
  },
  {
   "cell_type": "code",
   "execution_count": 23,
   "metadata": {},
   "outputs": [
    {
     "name": "stdout",
     "output_type": "stream",
     "text": [
      "A ['a', 'b', 'c']\n",
      "B ['a', 'b', 'c']\n",
      "A ['a', 'B', 'c']\n",
      "B ['a', 'B', 'c']\n"
     ]
    }
   ],
   "source": [
    "listaA = ['a','b','c']\n",
    "listaB = listaA\n",
    "print('A',listaA)\n",
    "print('B',listaB)\n",
    "listaB[1]='B'\n",
    "print('A',listaA)\n",
    "print('B',listaB)"
   ]
  },
  {
   "cell_type": "code",
   "execution_count": 24,
   "metadata": {},
   "outputs": [
    {
     "name": "stdout",
     "output_type": "stream",
     "text": [
      "A ['a', 'b', 'c']\n",
      "B ['a', 'b', 'c']\n",
      "A ['a', 'b', 'c']\n",
      "B ['a', 'B', 'c']\n"
     ]
    }
   ],
   "source": [
    "listaA = ['a','b','c']\n",
    "listaB = listaA.copy()\n",
    "print('A',listaA)\n",
    "print('B',listaB)\n",
    "listaB[1]='B'\n",
    "print('A',listaA)\n",
    "print('B',listaB)"
   ]
  },
  {
   "cell_type": "markdown",
   "metadata": {},
   "source": [
    "### reverse()"
   ]
  },
  {
   "cell_type": "code",
   "execution_count": 30,
   "metadata": {},
   "outputs": [
    {
     "name": "stdout",
     "output_type": "stream",
     "text": [
      "['a', 'b', 'c']\n",
      "['c', 'b', 'a']\n"
     ]
    }
   ],
   "source": [
    "listaA = ['a','b','c']\n",
    "listaB = listaA.copy()\n",
    "listaB.reverse()\n",
    "print(listaA)\n",
    "print(listaB)"
   ]
  },
  {
   "cell_type": "markdown",
   "metadata": {},
   "source": [
    "### sort()"
   ]
  },
  {
   "cell_type": "code",
   "execution_count": 34,
   "metadata": {},
   "outputs": [
    {
     "name": "stdout",
     "output_type": "stream",
     "text": [
      "[0.3, 1, 2, 3, 5, 6, 8, 9, 9]\n",
      "['f', 'hola', 'up', 'x']\n"
     ]
    }
   ],
   "source": [
    "listaA = [9,5,2,8,3,1,6,9,0.3]\n",
    "listaA.sort()\n",
    "print(listaA)\n",
    "listaB = ['x','hola','up','f']\n",
    "listaB.sort()\n",
    "print(listaB)"
   ]
  },
  {
   "cell_type": "markdown",
   "metadata": {},
   "source": [
    "### extend()"
   ]
  },
  {
   "cell_type": "code",
   "execution_count": 36,
   "metadata": {},
   "outputs": [
    {
     "name": "stdout",
     "output_type": "stream",
     "text": [
      "['a', 'b', 'c', ['d', 'e']]\n"
     ]
    }
   ],
   "source": [
    "listaA = ['a','b','c']\n",
    "listaB = ['d','e']\n",
    "listaA.append(listaB)\n",
    "print(listaA)"
   ]
  },
  {
   "cell_type": "code",
   "execution_count": 37,
   "metadata": {},
   "outputs": [
    {
     "name": "stdout",
     "output_type": "stream",
     "text": [
      "['a', 'b', 'c', 'd', 'e']\n"
     ]
    }
   ],
   "source": [
    "listaA = ['a','b','c']\n",
    "listaB = ['d','e']\n",
    "listaA.extend(listaB)\n",
    "print(listaA)"
   ]
  },
  {
   "cell_type": "markdown",
   "metadata": {},
   "source": [
    "### count()"
   ]
  },
  {
   "cell_type": "code",
   "execution_count": 44,
   "metadata": {},
   "outputs": [
    {
     "name": "stdout",
     "output_type": "stream",
     "text": [
      "2\n",
      "0\n"
     ]
    }
   ],
   "source": [
    "listaA = ['a','b','c','d','a']\n",
    "print(listaA.count('a'))\n",
    "print(listaA.count(5))"
   ]
  },
  {
   "cell_type": "markdown",
   "metadata": {},
   "source": [
    "### index()"
   ]
  },
  {
   "cell_type": "code",
   "execution_count": 52,
   "metadata": {},
   "outputs": [
    {
     "name": "stdout",
     "output_type": "stream",
     "text": [
      "1\n"
     ]
    }
   ],
   "source": [
    "listaA = ['a','b','c','d','a']\n",
    "print(listaA.index('b'))"
   ]
  },
  {
   "cell_type": "markdown",
   "metadata": {},
   "source": [
    "### remove()"
   ]
  },
  {
   "cell_type": "code",
   "execution_count": 54,
   "metadata": {},
   "outputs": [
    {
     "name": "stdout",
     "output_type": "stream",
     "text": [
      "['a', 'c', 'd', 'a']\n"
     ]
    }
   ],
   "source": [
    "listaA = ['a','b','c','d','a']\n",
    "listaA.remove('b')\n",
    "print(listaA)"
   ]
  },
  {
   "cell_type": "markdown",
   "metadata": {},
   "source": [
    "### insert()"
   ]
  },
  {
   "cell_type": "code",
   "execution_count": 57,
   "metadata": {},
   "outputs": [
    {
     "name": "stdout",
     "output_type": "stream",
     "text": [
      "['a', 'b', 'z', 'c', 'd', 'a']\n"
     ]
    }
   ],
   "source": [
    "listaA = ['a','b','c','d','a']\n",
    "listaA.insert(2,'z')\n",
    "print(listaA)"
   ]
  },
  {
   "cell_type": "markdown",
   "metadata": {},
   "source": [
    "### pop()"
   ]
  },
  {
   "cell_type": "code",
   "execution_count": 59,
   "metadata": {},
   "outputs": [
    {
     "name": "stdout",
     "output_type": "stream",
     "text": [
      "['a', 'b', 'd']\n"
     ]
    }
   ],
   "source": [
    "listaA = ['a','b','c','d','a']\n",
    "listaA.pop(2)\n",
    "listaA.pop()\n",
    "print(listaA)"
   ]
  },
  {
   "cell_type": "markdown",
   "metadata": {},
   "source": [
    "### Ejercicio"
   ]
  },
  {
   "cell_type": "code",
   "execution_count": 60,
   "metadata": {},
   "outputs": [
    {
     "name": "stdout",
     "output_type": "stream",
     "text": [
      "['b', 'c', 'e', 'm']\n"
     ]
    }
   ],
   "source": [
    "lista = ['a','z','m','e']\n",
    "lista.append('c')\n",
    "lista.insert(2,'b')\n",
    "lista.reverse()\n",
    "lista.sort()\n",
    "lista.remove('a')\n",
    "lista.pop()\n",
    "print(lista)"
   ]
  },
  {
   "cell_type": "markdown",
   "metadata": {},
   "source": [
    "# Estructuras de control"
   ]
  },
  {
   "cell_type": "markdown",
   "metadata": {},
   "source": [
    "### if"
   ]
  },
  {
   "cell_type": "code",
   "execution_count": 4,
   "metadata": {},
   "outputs": [
    {
     "name": "stdout",
     "output_type": "stream",
     "text": [
      "Dame tu nombre:Claudia\n",
      "Bienvenido  Claudia\n"
     ]
    }
   ],
   "source": [
    "nombre = input(\"Dame tu nombre:\")\n",
    "print(\"Bienvenido \",nombre)"
   ]
  },
  {
   "cell_type": "code",
   "execution_count": 9,
   "metadata": {},
   "outputs": [
    {
     "name": "stdout",
     "output_type": "stream",
     "text": [
      "¿ Cuál es tu calificación?:7\n",
      "Aprobado\n"
     ]
    }
   ],
   "source": [
    "calif = int(input(\"¿ Cuál es tu calificación?:\"))\n",
    "if calif >= 6.0:\n",
    "    print(\"Aprobado\")"
   ]
  },
  {
   "cell_type": "code",
   "execution_count": 13,
   "metadata": {},
   "outputs": [
    {
     "name": "stdout",
     "output_type": "stream",
     "text": [
      "¿ Cuál es tu calificación?:4\n",
      "Reprobado\n"
     ]
    }
   ],
   "source": [
    "calif = int(input(\"¿ Cuál es tu calificación?:\"))\n",
    "if calif >= 6.0:\n",
    "    print(\"Aprobado\")\n",
    "else:\n",
    "    print(\"Reprobado\")"
   ]
  },
  {
   "cell_type": "code",
   "execution_count": 12,
   "metadata": {},
   "outputs": [
    {
     "name": "stdout",
     "output_type": "stream",
     "text": [
      "¿ Cuál es tu calificación?:9.5\n",
      "Excelente\n"
     ]
    }
   ],
   "source": [
    "calif = float(input(\"¿ Cuál es tu calificación?:\"))\n",
    "if calif >= 9.0:\n",
    "    print(\"Excelente\")\n",
    "elif calif >= 7.0:\n",
    "    print(\"Bien\")\n",
    "elif calif >= 6.0:\n",
    "    print(\"Aprobado\")\n",
    "else:\n",
    "    print(\"Reprobado\")"
   ]
  },
  {
   "cell_type": "code",
   "execution_count": 18,
   "metadata": {},
   "outputs": [
    {
     "name": "stdout",
     "output_type": "stream",
     "text": [
      "¿Cuál es tu calificación ?:5.0\n",
      "reprobado\n"
     ]
    }
   ],
   "source": [
    "calif = float(input(\"¿Cuál es tu calificación ?:\"))\n",
    "mensaje = \"aprobado\" if calif >= 6.0 else \"reprobado\"\n",
    "print(mensaje)"
   ]
  },
  {
   "cell_type": "code",
   "execution_count": 1,
   "metadata": {},
   "outputs": [
    {
     "name": "stdout",
     "output_type": "stream",
     "text": [
      "¿Cuál es tu calificación ?:9.1\n",
      "excelente\n"
     ]
    }
   ],
   "source": [
    "calif = float(input(\"¿Cuál es tu calificación ?:\"))\n",
    "mensaje = \"excelente\" if calif >= 9.0 else \"aprobado\" if calif >=6.0 else \"reprobado\"\n",
    "print(mensaje)"
   ]
  },
  {
   "cell_type": "markdown",
   "metadata": {},
   "source": [
    "### while"
   ]
  },
  {
   "cell_type": "code",
   "execution_count": 7,
   "metadata": {},
   "outputs": [
    {
     "name": "stdout",
     "output_type": "stream",
     "text": [
      "0\n",
      "1\n",
      "2\n",
      "3\n",
      "4\n"
     ]
    }
   ],
   "source": [
    "i = 0\n",
    "while i<5:\n",
    "    print(i)\n",
    "    i = i+1"
   ]
  },
  {
   "cell_type": "markdown",
   "metadata": {},
   "source": [
    "### for"
   ]
  },
  {
   "cell_type": "code",
   "execution_count": 10,
   "metadata": {},
   "outputs": [
    {
     "name": "stdout",
     "output_type": "stream",
     "text": [
      "10\n",
      "20\n",
      "30\n",
      "40\n",
      "50\n"
     ]
    }
   ],
   "source": [
    "lista = [10,20,30,40,50]\n",
    "for elemento in lista:\n",
    "    print(elemento)"
   ]
  },
  {
   "cell_type": "code",
   "execution_count": 11,
   "metadata": {},
   "outputs": [
    {
     "name": "stdout",
     "output_type": "stream",
     "text": [
      "a\n",
      "g\n",
      "u\n",
      "a\n",
      "s\n",
      "c\n",
      "a\n",
      "l\n",
      "i\n",
      "e\n",
      "n\n",
      "t\n",
      "e\n",
      "s\n"
     ]
    }
   ],
   "source": [
    "for c in 'aguascalientes':\n",
    "    print(c)"
   ]
  },
  {
   "cell_type": "code",
   "execution_count": 15,
   "metadata": {},
   "outputs": [
    {
     "name": "stdout",
     "output_type": "stream",
     "text": [
      "5\n",
      "15\n",
      "25\n",
      "35\n",
      "45\n",
      "55\n",
      "65\n",
      "75\n",
      "85\n",
      "95\n"
     ]
    }
   ],
   "source": [
    "for i in range(5,101,10):   # range( inicio, fin, incremento )\n",
    "    print(i)"
   ]
  },
  {
   "cell_type": "code",
   "execution_count": 17,
   "metadata": {},
   "outputs": [
    {
     "name": "stdout",
     "output_type": "stream",
     "text": [
      "0\n",
      "1\n",
      "2\n",
      "3\n",
      "4\n"
     ]
    }
   ],
   "source": [
    "for i in range(5):  # range(inicio=0, fin, incremento=1)\n",
    "    print(i)"
   ]
  },
  {
   "cell_type": "code",
   "execution_count": 20,
   "metadata": {},
   "outputs": [
    {
     "name": "stdout",
     "output_type": "stream",
     "text": [
      "3\n",
      "4\n",
      "5\n",
      "6\n",
      "7\n",
      "8\n",
      "9\n"
     ]
    }
   ],
   "source": [
    "for i in range(3,10):   # range(inicio, fin, incremento=1)\n",
    "    print(i)"
   ]
  },
  {
   "cell_type": "code",
   "execution_count": 21,
   "metadata": {},
   "outputs": [
    {
     "name": "stdout",
     "output_type": "stream",
     "text": [
      "hola\n",
      "hola\n",
      "hola\n",
      "hola\n",
      "hola\n"
     ]
    }
   ],
   "source": [
    "# Ejercicio imprimir 5 veces hola\n",
    "for i in range(5):\n",
    "    print('hola')"
   ]
  },
  {
   "cell_type": "code",
   "execution_count": 23,
   "metadata": {},
   "outputs": [
    {
     "name": "stdout",
     "output_type": "stream",
     "text": [
      "0 A\n",
      "1 B\n",
      "2 C\n",
      "3 D\n"
     ]
    }
   ],
   "source": [
    "# enumerate (elemento, indice)\n",
    "lista = ['A','B','C','D']\n",
    "for i,elemento in enumerate(lista):\n",
    "    print(i,elemento)"
   ]
  },
  {
   "cell_type": "code",
   "execution_count": 28,
   "metadata": {},
   "outputs": [
    {
     "name": "stdout",
     "output_type": "stream",
     "text": [
      "A m\n",
      "B n\n",
      "C o\n",
      "D p\n",
      "A m 10\n",
      "B n 20\n",
      "C o 30\n",
      "D p 40\n"
     ]
    }
   ],
   "source": [
    "# zip  itera sobre 2 o más listas del mismo tamaño\n",
    "listaA = ['A','B','C','D']\n",
    "listaB = ['m','n','o','p']\n",
    "for a,b in zip(listaA,listaB):\n",
    "    print(a,b)\n",
    "    \n",
    "listaA = ['A','B','C','D','F','G','H']\n",
    "listaB = ['m','n','o','p']\n",
    "listaC = [10,20,30,40,50,60]\n",
    "for a,b,c in zip(listaA,listaB,listaC):\n",
    "    print(a,b,c)"
   ]
  }
 ],
 "metadata": {
  "kernelspec": {
   "display_name": "Python 3",
   "language": "python",
   "name": "python3"
  },
  "language_info": {
   "codemirror_mode": {
    "name": "ipython",
    "version": 3
   },
   "file_extension": ".py",
   "mimetype": "text/x-python",
   "name": "python",
   "nbconvert_exporter": "python",
   "pygments_lexer": "ipython3",
   "version": "3.7.6"
  }
 },
 "nbformat": 4,
 "nbformat_minor": 4
}
