{
 "cells": [
  {
   "cell_type": "markdown",
   "metadata": {},
   "source": [
    "# Intercambio de monedas"
   ]
  },
  {
   "cell_type": "code",
   "execution_count": null,
   "metadata": {},
   "outputs": [],
   "source": [
    "cantidad = 38\n",
    "monedas = [100,50,20,10,5,2,1]\n",
    "\n",
    "# código\n",
    "\n",
    "cantidad_monedas = [0,3,1,1,1]\n"
   ]
  },
  {
   "cell_type": "markdown",
   "metadata": {},
   "source": [
    "# Problema de la mochila "
   ]
  },
  {
   "cell_type": "code",
   "execution_count": null,
   "metadata": {},
   "outputs": [],
   "source": [
    "capacidad = 5\n",
    "objetos_peso = [1,2,2,2]\n",
    "objetos_ganancia = [5,2,2,20]\n",
    "\n",
    "''' código\n",
    "1. Calcular la ganancia/peso\n",
    "objetos_ganancia_peso = [5,1,1,10]\n",
    "2. Ordenar los objetos de acuerdo a la ganacia_peso\n",
    "objetos_ganancia_peso = [10,5,1,1]\n",
    "objetos_peso = [2,1,2,2]\n",
    "objetos_ganancia = [20,5,2,2]\n",
    "3. Ir tomando los objetos en orden hasta que se llene la mochila\n",
    "  Capacidad_mochila = 5\n",
    "  - Primer objeto: ganancia_peso:10 peso:2 ganancia:20\n",
    "    Decisión: SI poner el objeto\n",
    "  objetos_cantidad = [1,0,0,0]\n",
    "  \n",
    "  Capacidad_mochila = 3\n",
    "  - Segundo objeto: ganancia_peso:5 peso:1 ganancia:5\n",
    "    Decisión: SI poner el objeto\n",
    "   objetos_cantidad = [1,1,0,0]\n",
    "\n",
    "  Capacidad_mochila = 2\n",
    "  - Tercer objeto: ganancia_peso:1 peso:2 ganancia:2\n",
    "    Decisión: SI poner el objeto\n",
    "    objetos_cantidad = [1,1,1,0]\n",
    "    \n",
    "   Capacidad_mochila = 0\n",
    "   - Cuarto objeto: ganancia_peso:1 peso:2 ganancia:2\n",
    "    Decisión: NO poner el objeto\n",
    "    objetos_cantidad = [1,1,1,0]\n",
    "    \n",
    "\n",
    "IMPRIMIR\n",
    "  En la mochila se tienen los objetos:\n",
    "     Objeto con ganancia de 20 y peso 2\n",
    "     Objeto con ganancia de 5 y peso 1\n",
    "     Objeto con ganancia de 2 y peso 2\n",
    "\n",
    "código '''\n",
    "\n"
   ]
  },
  {
   "cell_type": "code",
   "execution_count": 1,
   "metadata": {},
   "outputs": [
    {
     "name": "stdout",
     "output_type": "stream",
     "text": [
      "3.7.6 (default, Jan  8 2020, 20:23:39) [MSC v.1916 64 bit (AMD64)]\n"
     ]
    }
   ],
   "source": [
    "import sys\n",
    "print(sys.version)"
   ]
  }
 ],
 "metadata": {
  "kernelspec": {
   "display_name": "Python 3",
   "language": "python",
   "name": "python3"
  },
  "language_info": {
   "codemirror_mode": {
    "name": "ipython",
    "version": 3
   },
   "file_extension": ".py",
   "mimetype": "text/x-python",
   "name": "python",
   "nbconvert_exporter": "python",
   "pygments_lexer": "ipython3",
   "version": "3.7.6"
  }
 },
 "nbformat": 4,
 "nbformat_minor": 4
}
