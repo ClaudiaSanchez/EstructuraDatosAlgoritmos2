{
 "cells": [
  {
   "cell_type": "markdown",
   "metadata": {},
   "source": [
    "# Estructuras de Datos en python"
   ]
  },
  {
   "cell_type": "markdown",
   "metadata": {},
   "source": [
    "## Listas"
   ]
  },
  {
   "cell_type": "code",
   "execution_count": 1,
   "metadata": {},
   "outputs": [
    {
     "name": "stdout",
     "output_type": "stream",
     "text": [
      "[4, 2, 7, 2, 4, 'hola', 'up']\n"
     ]
    }
   ],
   "source": [
    "lista = [4,2,7,2,4,\"hola\",\"up\"]\n",
    "print(lista)"
   ]
  },
  {
   "cell_type": "code",
   "execution_count": 2,
   "metadata": {},
   "outputs": [
    {
     "name": "stdout",
     "output_type": "stream",
     "text": [
      "[100, 2, 7, 2, 4, 'hola', 'up']\n"
     ]
    }
   ],
   "source": [
    "# Se puede editar\n",
    "lista[0] = 100\n",
    "print(lista)"
   ]
  },
  {
   "cell_type": "markdown",
   "metadata": {},
   "source": [
    "## Tupla"
   ]
  },
  {
   "cell_type": "code",
   "execution_count": 3,
   "metadata": {},
   "outputs": [
    {
     "name": "stdout",
     "output_type": "stream",
     "text": [
      "(6, 2, 6, 2, 1, 'up')\n"
     ]
    }
   ],
   "source": [
    "tupla = (6,2,6,2,1,\"up\")\n",
    "print(tupla)"
   ]
  },
  {
   "cell_type": "code",
   "execution_count": 4,
   "metadata": {},
   "outputs": [
    {
     "ename": "TypeError",
     "evalue": "'tuple' object does not support item assignment",
     "output_type": "error",
     "traceback": [
      "\u001b[1;31m---------------------------------------------------------------------------\u001b[0m",
      "\u001b[1;31mTypeError\u001b[0m                                 Traceback (most recent call last)",
      "\u001b[1;32m<ipython-input-4-4b989048c1d9>\u001b[0m in \u001b[0;36m<module>\u001b[1;34m\u001b[0m\n\u001b[1;32m----> 1\u001b[1;33m \u001b[0mtupla\u001b[0m\u001b[1;33m[\u001b[0m\u001b[1;36m0\u001b[0m\u001b[1;33m]\u001b[0m \u001b[1;33m=\u001b[0m \u001b[1;36m200\u001b[0m\u001b[1;33m\u001b[0m\u001b[1;33m\u001b[0m\u001b[0m\n\u001b[0m\u001b[0;32m      2\u001b[0m \u001b[0mprint\u001b[0m\u001b[1;33m(\u001b[0m\u001b[0mtupla\u001b[0m\u001b[1;33m)\u001b[0m\u001b[1;33m\u001b[0m\u001b[1;33m\u001b[0m\u001b[0m\n",
      "\u001b[1;31mTypeError\u001b[0m: 'tuple' object does not support item assignment"
     ]
    }
   ],
   "source": [
    "tupla[0] = 200\n",
    "print(tupla)"
   ]
  },
  {
   "cell_type": "code",
   "execution_count": 5,
   "metadata": {},
   "outputs": [
    {
     "name": "stdout",
     "output_type": "stream",
     "text": [
      "2\n",
      "5\n"
     ]
    }
   ],
   "source": [
    "print( tupla.count(6))\n",
    "print( tupla.index(\"up\"))"
   ]
  },
  {
   "cell_type": "markdown",
   "metadata": {},
   "source": [
    "## Conjunto"
   ]
  },
  {
   "cell_type": "code",
   "execution_count": 7,
   "metadata": {},
   "outputs": [
    {
     "name": "stdout",
     "output_type": "stream",
     "text": [
      "{1, 2, 4, 7, 'up'}\n"
     ]
    }
   ],
   "source": [
    "conjunto = {4,7,2,1,4,\"up\"}\n",
    "print(conjunto)"
   ]
  },
  {
   "cell_type": "code",
   "execution_count": 9,
   "metadata": {},
   "outputs": [
    {
     "name": "stdout",
     "output_type": "stream",
     "text": [
      "{1, 2, 3}\n",
      "{1, 2, 3}\n"
     ]
    }
   ],
   "source": [
    "conjunto = {1,2,3}\n",
    "print(conjunto)\n",
    "conjunto.add(3)\n",
    "print(conjunto)"
   ]
  },
  {
   "cell_type": "code",
   "execution_count": 10,
   "metadata": {},
   "outputs": [
    {
     "name": "stdout",
     "output_type": "stream",
     "text": [
      "{1, 2, 3}\n",
      "set()\n"
     ]
    }
   ],
   "source": [
    "conjunto = {1,2,3}\n",
    "print(conjunto)\n",
    "conjunto.clear()\n",
    "print(conjunto)"
   ]
  },
  {
   "cell_type": "code",
   "execution_count": 14,
   "metadata": {
    "scrolled": true
   },
   "outputs": [
    {
     "name": "stdout",
     "output_type": "stream",
     "text": [
      "conjunto {1, 2, 3}\n",
      "conjunto {1, 2, 3}\n",
      "conjunto2 {1, 2, 3, 4}\n"
     ]
    }
   ],
   "source": [
    "conjunto = {1,2,3}\n",
    "print('conjunto',conjunto)\n",
    "conjunto2 = conjunto.copy()\n",
    "conjunto2.add(4)\n",
    "print('conjunto',conjunto)\n",
    "print('conjunto2',conjunto2)"
   ]
  },
  {
   "cell_type": "code",
   "execution_count": 16,
   "metadata": {},
   "outputs": [
    {
     "name": "stdout",
     "output_type": "stream",
     "text": [
      "{'a', 'i', 'e', 'c', 'u', 'o', 'b'}\n"
     ]
    }
   ],
   "source": [
    "A = {'a','b','c'}\n",
    "B = {'a','e','i','o','u'}\n",
    "C = A.union(B)\n",
    "print(C)"
   ]
  },
  {
   "cell_type": "code",
   "execution_count": 17,
   "metadata": {},
   "outputs": [
    {
     "name": "stdout",
     "output_type": "stream",
     "text": [
      "{'a'}\n"
     ]
    }
   ],
   "source": [
    "A = {'a','b','c'}\n",
    "B = {'a','e','i','o','u'}\n",
    "C = A.intersection(B)\n",
    "print(C)"
   ]
  },
  {
   "cell_type": "markdown",
   "metadata": {},
   "source": [
    "## Diccionarios"
   ]
  },
  {
   "cell_type": "code",
   "execution_count": 18,
   "metadata": {},
   "outputs": [],
   "source": [
    "diccionario = dict()"
   ]
  },
  {
   "cell_type": "code",
   "execution_count": 21,
   "metadata": {},
   "outputs": [
    {
     "name": "stdout",
     "output_type": "stream",
     "text": [
      "{3: 'up', 4: 'universidad', 7: 'ia'}\n"
     ]
    }
   ],
   "source": [
    "diccionario[3] = 'up'\n",
    "diccionario[4] = 'universidad'\n",
    "diccionario[7] = 'ia'\n",
    "print(diccionario)"
   ]
  },
  {
   "cell_type": "code",
   "execution_count": 24,
   "metadata": {},
   "outputs": [
    {
     "name": "stdout",
     "output_type": "stream",
     "text": [
      "{3: 'hola', 4: 'universidad', 7: 'ia'}\n"
     ]
    }
   ],
   "source": [
    "diccionario[3] = 'hola'\n",
    "print(diccionario)"
   ]
  },
  {
   "cell_type": "code",
   "execution_count": 25,
   "metadata": {},
   "outputs": [
    {
     "name": "stdout",
     "output_type": "stream",
     "text": [
      "ia\n"
     ]
    }
   ],
   "source": [
    "print( diccionario[7] )"
   ]
  },
  {
   "cell_type": "code",
   "execution_count": 27,
   "metadata": {},
   "outputs": [
    {
     "name": "stdout",
     "output_type": "stream",
     "text": [
      "{1: 'up', 2: 'hola', 5: 'ia', 4: 'adios'}\n"
     ]
    }
   ],
   "source": [
    "d = {1:'up',2:'hola',5:'ia'}\n",
    "d[4]='adios'\n",
    "print(d)"
   ]
  },
  {
   "cell_type": "code",
   "execution_count": 29,
   "metadata": {},
   "outputs": [
    {
     "name": "stdout",
     "output_type": "stream",
     "text": [
      "{'AGS': 'Aguascalientes', 'ZAC': 'ZACATECAS'}\n"
     ]
    }
   ],
   "source": [
    "d = {'AGS':'Aguascalientes','ZAC':'ZACATECAS'}\n",
    "print(d)"
   ]
  },
  {
   "cell_type": "code",
   "execution_count": 30,
   "metadata": {},
   "outputs": [
    {
     "name": "stdout",
     "output_type": "stream",
     "text": [
      "{'AGS': 1, 'ZAC': 2}\n"
     ]
    }
   ],
   "source": [
    "d = {'AGS':1,'ZAC':2}\n",
    "print(d)"
   ]
  },
  {
   "cell_type": "code",
   "execution_count": 31,
   "metadata": {},
   "outputs": [
    {
     "name": "stdout",
     "output_type": "stream",
     "text": [
      "{1: [9, 2, 1, 3], 2: 'hola', 6: 45.23}\n"
     ]
    }
   ],
   "source": [
    "d = {1:[9,2,1,3],2:'hola',6:45.23}\n",
    "print(d)"
   ]
  },
  {
   "cell_type": "code",
   "execution_count": 32,
   "metadata": {},
   "outputs": [
    {
     "name": "stdout",
     "output_type": "stream",
     "text": [
      "{1: [9, 2, 1, 3], 2: 'hola', 6: 45.23, 'hola': 3}\n"
     ]
    }
   ],
   "source": [
    "d = {1:[9,2,1,3],2:'hola',6:45.23,\"hola\":3}\n",
    "print(d)"
   ]
  },
  {
   "cell_type": "code",
   "execution_count": 40,
   "metadata": {
    "scrolled": true
   },
   "outputs": [
    {
     "name": "stdout",
     "output_type": "stream",
     "text": [
      "{1: 'hola', 2: 'hola', 3: 'hola'}\n"
     ]
    }
   ],
   "source": [
    "d = d.fromkeys((1,2,3),'hola')\n",
    "print(d)"
   ]
  },
  {
   "cell_type": "code",
   "execution_count": 42,
   "metadata": {},
   "outputs": [
    {
     "name": "stdout",
     "output_type": "stream",
     "text": [
      "hola\n",
      "hola\n"
     ]
    }
   ],
   "source": [
    "d = {1:'up',2:'hola',5:'ia'}\n",
    "print(d.get(2))\n",
    "print(d[2])"
   ]
  },
  {
   "cell_type": "code",
   "execution_count": 43,
   "metadata": {
    "scrolled": true
   },
   "outputs": [
    {
     "name": "stdout",
     "output_type": "stream",
     "text": [
      "dict_items([(1, 'up'), (2, 'hola'), (5, 'ia')])\n"
     ]
    }
   ],
   "source": [
    "d = {1:'up',2:'hola',5:'ia'}\n",
    "print(d.items())"
   ]
  },
  {
   "cell_type": "code",
   "execution_count": 49,
   "metadata": {},
   "outputs": [
    {
     "name": "stdout",
     "output_type": "stream",
     "text": [
      "dict_keys([1, 2, 5])\n",
      "[1, 2, 5]\n"
     ]
    }
   ],
   "source": [
    "d = {1:'up',2:'hola',5:'ia'}\n",
    "print(d.keys())\n",
    "print(list(d.keys()))"
   ]
  },
  {
   "cell_type": "code",
   "execution_count": 50,
   "metadata": {},
   "outputs": [
    {
     "name": "stdout",
     "output_type": "stream",
     "text": [
      "dict_values(['up', 'hola', 'ia'])\n",
      "['up', 'hola', 'ia']\n"
     ]
    }
   ],
   "source": [
    "d = {1:'up',2:'hola',5:'ia'}\n",
    "print(d.values())\n",
    "print(list(d.values()))"
   ]
  },
  {
   "cell_type": "code",
   "execution_count": 53,
   "metadata": {},
   "outputs": [
    {
     "name": "stdout",
     "output_type": "stream",
     "text": [
      "No existe la clave\n"
     ]
    }
   ],
   "source": [
    "d = {1:'up',2:'hola',5:'ia'}\n",
    "if 7 in list(d.keys()):\n",
    "    print('Ya existe la clave')\n",
    "else:\n",
    "    print('No existe la clave')"
   ]
  },
  {
   "cell_type": "markdown",
   "metadata": {},
   "source": [
    "# Funciones"
   ]
  },
  {
   "cell_type": "code",
   "execution_count": 54,
   "metadata": {},
   "outputs": [
    {
     "name": "stdout",
     "output_type": "stream",
     "text": [
      "Llamada a funcion\n"
     ]
    }
   ],
   "source": [
    "def funcion():\n",
    "    print('Llamada a funcion')\n",
    "funcion()"
   ]
  },
  {
   "cell_type": "code",
   "execution_count": 63,
   "metadata": {},
   "outputs": [
    {
     "name": "stdout",
     "output_type": "stream",
     "text": [
      "7\n",
      "7.7\n",
      "UniversidadPanamericana\n"
     ]
    }
   ],
   "source": [
    "def suma(n1,n2):\n",
    "    return n1+n2\n",
    "print( suma(2,5) )\n",
    "print( suma(2.5,5.2) )\n",
    "print( suma('Universidad','Panamericana'))"
   ]
  },
  {
   "cell_type": "code",
   "execution_count": 65,
   "metadata": {},
   "outputs": [
    {
     "name": "stdout",
     "output_type": "stream",
     "text": [
      "4.5\n",
      "5.1\n",
      "None\n"
     ]
    }
   ],
   "source": [
    "def suma(n1,n2):\n",
    "    if isinstance(n1,int) or isinstance(n1,float):\n",
    "        return n1+n2/2\n",
    "print( suma(2,5) )\n",
    "print( suma(2.5,5.2) )\n",
    "print( suma('Universidad','Panamericana'))"
   ]
  },
  {
   "cell_type": "code",
   "execution_count": 75,
   "metadata": {},
   "outputs": [
    {
     "name": "stdout",
     "output_type": "stream",
     "text": [
      "suma: 7\n",
      "multiplicacion: 10\n",
      "res (11, 18)\n",
      "(7.7, 13.0)\n"
     ]
    }
   ],
   "source": [
    "def suma_multiplicacion(n1,n2):\n",
    "    return n1+n2, n1*n2\n",
    "s,m = suma_multiplicacion(2,5)\n",
    "print( 'suma:',s )\n",
    "print( 'multiplicacion:',m)\n",
    "\n",
    "res = suma_multiplicacion(9,2)\n",
    "print('res',res)\n",
    "print( suma_multiplicacion(2.5,5.2) )"
   ]
  },
  {
   "cell_type": "code",
   "execution_count": 78,
   "metadata": {},
   "outputs": [
    {
     "name": "stdout",
     "output_type": "stream",
     "text": [
      "5\n",
      "holaadios\n"
     ]
    }
   ],
   "source": [
    "def suma2(n1:int,n2:int):\n",
    "    return n1+n2\n",
    "print( suma2(2,3))\n",
    "print( suma2('hola','adios') )"
   ]
  },
  {
   "cell_type": "markdown",
   "metadata": {},
   "source": [
    "Tipos primitivos (int,float,bool,str): paso de parámetro por valor (copia)\n",
    "\n",
    "Otros tipos de datos: paso de parámetro por referencia"
   ]
  },
  {
   "cell_type": "code",
   "execution_count": 81,
   "metadata": {},
   "outputs": [
    {
     "name": "stdout",
     "output_type": "stream",
     "text": [
      "4 4.4 cadena True [1, 2, 3, 4]\n",
      "Dentro de funcion 14 14.4 modificado False ['modificado', 2, 3, 4]\n",
      "4 4.4 cadena True ['modificado', 2, 3, 4]\n"
     ]
    }
   ],
   "source": [
    "def funcion(vint,vfloat,vstr,vbool,vlist):\n",
    "    vint +=10\n",
    "    vfloat +=10\n",
    "    vstr = 'modificado' \n",
    "    vbool = False \n",
    "    vlist[0] = 'modificado'\n",
    "    print('Dentro de funcion',vint,vfloat,vstr,vbool,vlist)\n",
    "    \n",
    "vint = 4\n",
    "vfloat = 4.4\n",
    "vstr = 'cadena'\n",
    "vbool = True\n",
    "vlist = [1,2,3,4]\n",
    "print(vint,vfloat,vstr,vbool,vlist) # 4 4.4 cadena True [1, 2, 3, 4]\n",
    "funcion(vint,vfloat,vstr,vbool,vlist)\n",
    "print(vint,vfloat,vstr,vbool,vlist) # 4 4.4 cadena True ['modificado', 2, 3, 4]"
   ]
  },
  {
   "cell_type": "markdown",
   "metadata": {},
   "source": [
    "## Parámetros por default"
   ]
  },
  {
   "cell_type": "code",
   "execution_count": 85,
   "metadata": {},
   "outputs": [
    {
     "name": "stdout",
     "output_type": "stream",
     "text": [
      "n1: 1 n2: 2 n3: 3\n",
      "n1: 10 n2: 2 n3: 3\n",
      "n1: 10 n2: 20 n3: 3\n"
     ]
    }
   ],
   "source": [
    "def funcion(n1=1,n2=2,n3=3):\n",
    "    print('n1:',n1,'n2:',n2,'n3:',n3)\n",
    "funcion()\n",
    "funcion(10)\n",
    "funcion(10,20)"
   ]
  },
  {
   "cell_type": "code",
   "execution_count": 94,
   "metadata": {},
   "outputs": [
    {
     "name": "stdout",
     "output_type": "stream",
     "text": [
      "n1: 10 n2: 20 n3: 3 n4: 4\n",
      "n1: 10 n2: 20 n3: 30 n4: 4\n",
      "n1: 10 n2: 20 n3: 3 n4: 40\n"
     ]
    }
   ],
   "source": [
    "def funcion(n1,n2,n3=3,n4=4):\n",
    "    print('n1:',n1,'n2:',n2,'n3:',n3,'n4:',n4)\n",
    "funcion(10,20)\n",
    "funcion(10,20,30)\n",
    "funcion(10,20,n4=40)"
   ]
  },
  {
   "cell_type": "code",
   "execution_count": 99,
   "metadata": {},
   "outputs": [
    {
     "name": "stdout",
     "output_type": "stream",
     "text": [
      "n1: 10 n2: 20 n3: 30\n"
     ]
    }
   ],
   "source": [
    "def funcion(n1,n2=2,n3=3): \n",
    "    # A la izquierda van las variables SIN valor por default\n",
    "    # A la derecha van las variables CON valor por default\n",
    "    print('n1:',n1,'n2:',n2,'n3:',n3)\n",
    "funcion(10,20,30)"
   ]
  },
  {
   "cell_type": "markdown",
   "metadata": {},
   "source": [
    "## Clases"
   ]
  },
  {
   "cell_type": "code",
   "execution_count": 121,
   "metadata": {},
   "outputs": [
    {
     "name": "stdout",
     "output_type": "stream",
     "text": [
      "Rectangulo base:5 altura:-2 area:-10 perimetro:6\n"
     ]
    }
   ],
   "source": [
    "class Rectangulo:\n",
    "    def __init__(self,base=0,altura=0):  #Constructor\n",
    "        self.__base = base\n",
    "        self.altura = altura\n",
    "        \n",
    "    @property\n",
    "    def base(self):\n",
    "        return self.__base\n",
    "    @base.setter\n",
    "    def base(self,v):\n",
    "        self.__base = v if v>=0 else v*-1\n",
    "        \n",
    "    def __str__(self):\n",
    "        s = \"Rectangulo base:\"+str(self.__base)+\" altura:\"+str(self.altura)\n",
    "        s += \" area:\"+str(self.calcular_area())\n",
    "        s += \" perimetro:\"+str(self.calcular_perimetro())\n",
    "        return s\n",
    "    \n",
    "    def calcular_area(self):\n",
    "        return self.__base * self.altura\n",
    "    \n",
    "    def calcular_perimetro(self):\n",
    "        return self.__base*2 + self.altura*2\n",
    "        \n",
    "r = Rectangulo()\n",
    "r.base = -5\n",
    "r.altura = -2\n",
    "print(r)\n",
    "        "
   ]
  }
 ],
 "metadata": {
  "kernelspec": {
   "display_name": "Python 3",
   "language": "python",
   "name": "python3"
  },
  "language_info": {
   "codemirror_mode": {
    "name": "ipython",
    "version": 3
   },
   "file_extension": ".py",
   "mimetype": "text/x-python",
   "name": "python",
   "nbconvert_exporter": "python",
   "pygments_lexer": "ipython3",
   "version": "3.7.6"
  }
 },
 "nbformat": 4,
 "nbformat_minor": 4
}
