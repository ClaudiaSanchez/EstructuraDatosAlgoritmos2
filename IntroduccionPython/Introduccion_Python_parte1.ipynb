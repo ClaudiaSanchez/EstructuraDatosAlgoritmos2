{
  "nbformat": 4,
  "nbformat_minor": 0,
  "metadata": {
    "colab": {
      "name": "Introduccion_Python_1.ipynb",
      "provenance": []
    },
    "kernelspec": {
      "name": "python3",
      "display_name": "Python 3"
    }
  },
  "cells": [
    {
      "cell_type": "markdown",
      "metadata": {
        "id": "rVxMivIjf_3N",
        "colab_type": "text"
      },
      "source": [
        "# Introducción a Python parte 1"
      ]
    },
    {
      "cell_type": "markdown",
      "metadata": {
        "id": "SwPgCTc4f43u",
        "colab_type": "text"
      },
      "source": [
        "## Impresión y comentarios"
      ]
    },
    {
      "cell_type": "code",
      "metadata": {
        "id": "sUC5mI92QZeu",
        "colab_type": "code",
        "colab": {
          "base_uri": "https://localhost:8080/",
          "height": 34
        },
        "outputId": "27e8a2ad-fc73-425d-d020-a57a6f392df4"
      },
      "source": [
        "print(\"hola mundo\")"
      ],
      "execution_count": 1,
      "outputs": [
        {
          "output_type": "stream",
          "text": [
            "hola mundo\n"
          ],
          "name": "stdout"
        }
      ]
    },
    {
      "cell_type": "code",
      "metadata": {
        "id": "35iKnlQPSdw9",
        "colab_type": "code",
        "colab": {
          "base_uri": "https://localhost:8080/",
          "height": 51
        },
        "outputId": "0ae32a28-0d31-4f66-ce35-a140b9f27123"
      },
      "source": [
        "print(\"La empresa se llama 'X'\")\n",
        "print('La empresa se llama \"X\"')"
      ],
      "execution_count": 10,
      "outputs": [
        {
          "output_type": "stream",
          "text": [
            "La empresa se llama 'X'\n",
            "La empresa se llama \"X\"\n"
          ],
          "name": "stdout"
        }
      ]
    },
    {
      "cell_type": "code",
      "metadata": {
        "id": "3SJ97-6sTdse",
        "colab_type": "code",
        "colab": {
          "base_uri": "https://localhost:8080/",
          "height": 34
        },
        "outputId": "c1332488-c8bf-4fc9-b165-cbec82ecd98a"
      },
      "source": [
        "print(\"hola\"+str(5*2)+'adios')"
      ],
      "execution_count": 11,
      "outputs": [
        {
          "output_type": "stream",
          "text": [
            "hola10adios\n"
          ],
          "name": "stdout"
        }
      ]
    },
    {
      "cell_type": "code",
      "metadata": {
        "id": "JIEsXsQQSzTo",
        "colab_type": "code",
        "colab": {
          "base_uri": "https://localhost:8080/",
          "height": 137
        },
        "outputId": "9e5d3ca2-5bfd-4143-edb1-8aab24a6aa63"
      },
      "source": [
        "# comentario de una línea //\n",
        "\"\"\"\n",
        "hola\n",
        "Comentario de varias líneas\n",
        "\"\"\"\n",
        "print('hola')\n",
        "\n",
        "a = ''' Cadena\n",
        "de varias\n",
        "lineas'''\n",
        "\n",
        "b = \"\"\"\n",
        "Cadena con dos\n",
        "lineas\n",
        "\"\"\"\n",
        "print(a,b)\n"
      ],
      "execution_count": 23,
      "outputs": [
        {
          "output_type": "stream",
          "text": [
            "hola\n",
            " Cadena\n",
            "de varias\n",
            "lineas \n",
            "Cadena con dos\n",
            "lineas\n",
            "\n"
          ],
          "name": "stdout"
        }
      ]
    },
    {
      "cell_type": "markdown",
      "metadata": {
        "id": "fVAHLom6gGRu",
        "colab_type": "text"
      },
      "source": [
        "# Variables y tipos de datos"
      ]
    },
    {
      "cell_type": "code",
      "metadata": {
        "id": "c9wycHBqTwR7",
        "colab_type": "code",
        "colab": {
          "base_uri": "https://localhost:8080/",
          "height": 86
        },
        "outputId": "5ba86d85-1905-49b1-d4dd-2b49feec457a"
      },
      "source": [
        "nombre = \"Valeria\" # Asignación simple\n",
        "nombre1, nombre2 = \"Luis\", 'Cindy' # Asignación múltiple a múltiples variables\n",
        "apellido1 = apellido2 = \"Sanchez \" # Asignación del mismo valor\n",
        "print(nombre)\n",
        "print(nombre1,nombre2)\n",
        "print(apellido1,apellido2)\n",
        "nombre = 5\n",
        "print(nombre)"
      ],
      "execution_count": 22,
      "outputs": [
        {
          "output_type": "stream",
          "text": [
            "Valeria\n",
            "Luis Cindy\n",
            "Sanchez  Sanchez \n",
            "5\n"
          ],
          "name": "stdout"
        }
      ]
    },
    {
      "cell_type": "code",
      "metadata": {
        "id": "3nLk0D3zUyAF",
        "colab_type": "code",
        "colab": {
          "base_uri": "https://localhost:8080/",
          "height": 86
        },
        "outputId": "c961d8f0-4e97-4ac5-aa01-8ad6574d3aa0"
      },
      "source": [
        "n = 'Clau ' # str\n",
        "x = 6       # int\n",
        "y = 7.2     # float\n",
        "z = 3+2j    # complex\n",
        "print(n,type(n))\n",
        "print(x,type(x))\n",
        "print(y,type(y))\n",
        "print(z,type(z))"
      ],
      "execution_count": 26,
      "outputs": [
        {
          "output_type": "stream",
          "text": [
            "Clau  <class 'str'>\n",
            "6 <class 'int'>\n",
            "7.2 <class 'float'>\n",
            "(3+2j) <class 'complex'>\n"
          ],
          "name": "stdout"
        }
      ]
    },
    {
      "cell_type": "code",
      "metadata": {
        "id": "0Fx1lpGQVxoa",
        "colab_type": "code",
        "colab": {
          "base_uri": "https://localhost:8080/",
          "height": 68
        },
        "outputId": "2c5ba28c-8837-4079-cb9b-24dbdbfbc62a"
      },
      "source": [
        "x = 4 #int\n",
        "y = 4. #float\n",
        "z = 4.0 #float\n",
        "print(x,type(x))\n",
        "print(y,type(y))\n",
        "print(z,type(z))"
      ],
      "execution_count": 28,
      "outputs": [
        {
          "output_type": "stream",
          "text": [
            "4 <class 'int'>\n",
            "4.0 <class 'float'>\n",
            "4.0 <class 'float'>\n"
          ],
          "name": "stdout"
        }
      ]
    },
    {
      "cell_type": "code",
      "metadata": {
        "id": "Dm72QLbhWPD4",
        "colab_type": "code",
        "colab": {
          "base_uri": "https://localhost:8080/",
          "height": 68
        },
        "outputId": "fcd0dabe-5ba7-48e9-e526-8b2cb93095d4"
      },
      "source": [
        "x = 35e3 #float\n",
        "y = 12E4 #float\n",
        "z = 87.7e-100 # float\n",
        "print(x,type(x))\n",
        "print(y,type(y))\n",
        "print(z,type(z))"
      ],
      "execution_count": 30,
      "outputs": [
        {
          "output_type": "stream",
          "text": [
            "35000.0 <class 'float'>\n",
            "120000.0 <class 'float'>\n",
            "8.77e-99 <class 'float'>\n"
          ],
          "name": "stdout"
        }
      ]
    },
    {
      "cell_type": "code",
      "metadata": {
        "id": "Na89F-PuWljD",
        "colab_type": "code",
        "colab": {
          "base_uri": "https://localhost:8080/",
          "height": 51
        },
        "outputId": "b43fb2d6-9bd7-494f-8ee0-b1da8f5c3528"
      },
      "source": [
        "x = True\n",
        "y = False\n",
        "print(x, type(x)) # True bool\n",
        "print(y, type(y)) # False bool"
      ],
      "execution_count": 31,
      "outputs": [
        {
          "output_type": "stream",
          "text": [
            "True <class 'bool'>\n",
            "False <class 'bool'>\n"
          ],
          "name": "stdout"
        }
      ]
    },
    {
      "cell_type": "code",
      "metadata": {
        "id": "E7xPszQcWwsZ",
        "colab_type": "code",
        "colab": {
          "base_uri": "https://localhost:8080/",
          "height": 233
        },
        "outputId": "839fedcc-f0d5-424d-dde3-11e76f583fa7"
      },
      "source": [
        "a = int(1) # x es 1\n",
        "b = int(2.8) # y es 2\n",
        "c = int(\"3\") # z es 3\n",
        "d = int(\"3.3\") # ERROR\n",
        "e = int(3+2j) # ERROR\n",
        "f = int(\"hola\") # ERROR"
      ],
      "execution_count": 38,
      "outputs": [
        {
          "output_type": "error",
          "ename": "ValueError",
          "evalue": "ignored",
          "traceback": [
            "\u001b[0;31m---------------------------------------------------------------------------\u001b[0m",
            "\u001b[0;31mValueError\u001b[0m                                Traceback (most recent call last)",
            "\u001b[0;32m<ipython-input-38-a4c39b1cdfe0>\u001b[0m in \u001b[0;36m<module>\u001b[0;34m()\u001b[0m\n\u001b[1;32m      2\u001b[0m \u001b[0mb\u001b[0m \u001b[0;34m=\u001b[0m \u001b[0mint\u001b[0m\u001b[0;34m(\u001b[0m\u001b[0;36m2.8\u001b[0m\u001b[0;34m)\u001b[0m \u001b[0;31m# y es 2\u001b[0m\u001b[0;34m\u001b[0m\u001b[0;34m\u001b[0m\u001b[0m\n\u001b[1;32m      3\u001b[0m \u001b[0mc\u001b[0m \u001b[0;34m=\u001b[0m \u001b[0mint\u001b[0m\u001b[0;34m(\u001b[0m\u001b[0;34m\"3\"\u001b[0m\u001b[0;34m)\u001b[0m \u001b[0;31m# z es 3\u001b[0m\u001b[0;34m\u001b[0m\u001b[0;34m\u001b[0m\u001b[0m\n\u001b[0;32m----> 4\u001b[0;31m \u001b[0md\u001b[0m \u001b[0;34m=\u001b[0m \u001b[0mint\u001b[0m\u001b[0;34m(\u001b[0m\u001b[0;34m\"3.3\"\u001b[0m\u001b[0;34m)\u001b[0m \u001b[0;31m# ERROR\u001b[0m\u001b[0;34m\u001b[0m\u001b[0;34m\u001b[0m\u001b[0m\n\u001b[0m\u001b[1;32m      5\u001b[0m \u001b[0me\u001b[0m \u001b[0;34m=\u001b[0m \u001b[0mint\u001b[0m\u001b[0;34m(\u001b[0m\u001b[0;36m3\u001b[0m\u001b[0;34m+\u001b[0m\u001b[0;36m2j\u001b[0m\u001b[0;34m)\u001b[0m \u001b[0;31m# ERROR\u001b[0m\u001b[0;34m\u001b[0m\u001b[0;34m\u001b[0m\u001b[0m\n\u001b[1;32m      6\u001b[0m \u001b[0mf\u001b[0m \u001b[0;34m=\u001b[0m \u001b[0mint\u001b[0m\u001b[0;34m(\u001b[0m\u001b[0;34m\"hola\"\u001b[0m\u001b[0;34m)\u001b[0m \u001b[0;31m# ERROR\u001b[0m\u001b[0;34m\u001b[0m\u001b[0;34m\u001b[0m\u001b[0m\n",
            "\u001b[0;31mValueError\u001b[0m: invalid literal for int() with base 10: '3.3'"
          ]
        }
      ]
    },
    {
      "cell_type": "code",
      "metadata": {
        "id": "ZFVTTiKsXmBX",
        "colab_type": "code",
        "colab": {
          "base_uri": "https://localhost:8080/",
          "height": 216
        },
        "outputId": "f97a952e-dd54-4c46-8acb-24414e636d0e"
      },
      "source": [
        "a = float(1) # x es\n",
        "b = float(2.8) # y es 2.8\n",
        "c = float(\"3\") # z es\n",
        "d = float(\"3.3\") # z es 3.3\n",
        "e = float(3+2j) # ERROR\n",
        "f = float(\"hola\") # ERROR"
      ],
      "execution_count": 43,
      "outputs": [
        {
          "output_type": "error",
          "ename": "TypeError",
          "evalue": "ignored",
          "traceback": [
            "\u001b[0;31m---------------------------------------------------------------------------\u001b[0m",
            "\u001b[0;31mTypeError\u001b[0m                                 Traceback (most recent call last)",
            "\u001b[0;32m<ipython-input-43-4d471c5732f0>\u001b[0m in \u001b[0;36m<module>\u001b[0;34m()\u001b[0m\n\u001b[1;32m      3\u001b[0m \u001b[0mc\u001b[0m \u001b[0;34m=\u001b[0m \u001b[0mfloat\u001b[0m\u001b[0;34m(\u001b[0m\u001b[0;34m\"3\"\u001b[0m\u001b[0;34m)\u001b[0m \u001b[0;31m# z es\u001b[0m\u001b[0;34m\u001b[0m\u001b[0;34m\u001b[0m\u001b[0m\n\u001b[1;32m      4\u001b[0m \u001b[0md\u001b[0m \u001b[0;34m=\u001b[0m \u001b[0mfloat\u001b[0m\u001b[0;34m(\u001b[0m\u001b[0;34m\"3.3\"\u001b[0m\u001b[0;34m)\u001b[0m \u001b[0;31m# z es 3.3\u001b[0m\u001b[0;34m\u001b[0m\u001b[0;34m\u001b[0m\u001b[0m\n\u001b[0;32m----> 5\u001b[0;31m \u001b[0me\u001b[0m \u001b[0;34m=\u001b[0m \u001b[0mfloat\u001b[0m\u001b[0;34m(\u001b[0m\u001b[0;36m3\u001b[0m\u001b[0;34m+\u001b[0m\u001b[0;36m2j\u001b[0m\u001b[0;34m)\u001b[0m \u001b[0;31m# ERROR\u001b[0m\u001b[0;34m\u001b[0m\u001b[0;34m\u001b[0m\u001b[0m\n\u001b[0m\u001b[1;32m      6\u001b[0m \u001b[0mf\u001b[0m \u001b[0;34m=\u001b[0m \u001b[0mfloat\u001b[0m\u001b[0;34m(\u001b[0m\u001b[0;34m\"hola\"\u001b[0m\u001b[0;34m)\u001b[0m \u001b[0;31m# ERROR\u001b[0m\u001b[0;34m\u001b[0m\u001b[0;34m\u001b[0m\u001b[0m\n",
            "\u001b[0;31mTypeError\u001b[0m: can't convert complex to float"
          ]
        }
      ]
    },
    {
      "cell_type": "code",
      "metadata": {
        "id": "8iDmn8x6YEEU",
        "colab_type": "code",
        "colab": {
          "base_uri": "https://localhost:8080/",
          "height": 34
        },
        "outputId": "6327676f-3900-4f41-f8ba-74c7bc95ff88"
      },
      "source": [
        "a = str(1)\n",
        "b = str(2.8)\n",
        "c = str(3+2j)\n",
        "d = str(\"hola\")\n",
        "print(a,b,c,d)"
      ],
      "execution_count": 45,
      "outputs": [
        {
          "output_type": "stream",
          "text": [
            "1 2.8 (3+2j) hola\n"
          ],
          "name": "stdout"
        }
      ]
    },
    {
      "cell_type": "markdown",
      "metadata": {
        "id": "eEJRjMogYkgL",
        "colab_type": "text"
      },
      "source": [
        "## Cadenas de texto"
      ]
    },
    {
      "cell_type": "code",
      "metadata": {
        "id": "dkN6nj-tYmF_",
        "colab_type": "code",
        "colab": {
          "base_uri": "https://localhost:8080/",
          "height": 206
        },
        "outputId": "eee01679-0f12-48e7-dca7-85cc9f0b75b0"
      },
      "source": [
        "a = \"cadena\"\n",
        "print(a)\n",
        "print(a[3])\n",
        "print(a[-1]) #el último caracter\n",
        "print(a[-2]) #el penúltimo caracter\n",
        "print(a[1:5]) #sub cadena desde el caracter 1 hasta el 5(sin incluir)\n",
        "print(a[0:3]) #sub cadena desde el caracter 0 hasta el 3(sin incluir)\n",
        "print(a[4:])  #sub cadena desde el caracter 4 hasta el final\n",
        "print(a[:3])  #sub cadena desde el principio hasta el caracter 3(sin incluir)\n",
        "print(a[-3:-1])\n",
        "print(a[-3:]) #Los últimos tres caracteres de la cadena\n",
        "print(a[:3]) #Los primeros tres caracteres de la cadena"
      ],
      "execution_count": 61,
      "outputs": [
        {
          "output_type": "stream",
          "text": [
            "cadena\n",
            "e\n",
            "a\n",
            "n\n",
            "aden\n",
            "cad\n",
            "na\n",
            "cad\n",
            "en\n",
            "ena\n",
            "cad\n"
          ],
          "name": "stdout"
        }
      ]
    },
    {
      "cell_type": "code",
      "metadata": {
        "id": "WxmisDwKbIeG",
        "colab_type": "code",
        "colab": {
          "base_uri": "https://localhost:8080/",
          "height": 34
        },
        "outputId": "fe7220a3-f8f5-4e20-dcf9-03c8de04cc32"
      },
      "source": [
        "s = 'aguascalientes'\n",
        "print(s[0],s[1:4], s[-1:])"
      ],
      "execution_count": 62,
      "outputs": [
        {
          "output_type": "stream",
          "text": [
            "a gua s\n"
          ],
          "name": "stdout"
        }
      ]
    },
    {
      "cell_type": "code",
      "metadata": {
        "id": "xkDYZXRpbS4g",
        "colab_type": "code",
        "colab": {
          "base_uri": "https://localhost:8080/",
          "height": 120
        },
        "outputId": "cb70506b-44fb-48ff-90fc-50e2db1a2053"
      },
      "source": [
        "s = \"Cadena de Texto 27\"\n",
        "print( len(s)) # 18\n",
        "print(s.lower()) # cadena de texto 27\n",
        "print(s.upper()) # CADENA DE TEXTO 27\n",
        "print(s.replace('de','x')) # Cxdenx de Texto 27\n",
        "print(s.split(' ')) # Cadena ', 'de', '\n",
        "cadena2 = s[::-1]\n",
        "print(cadena2)"
      ],
      "execution_count": 80,
      "outputs": [
        {
          "output_type": "stream",
          "text": [
            "18\n",
            "cadena de texto 27\n",
            "CADENA DE TEXTO 27\n",
            "Caxna x Texto 27\n",
            "['Cadena', 'de', 'Texto', '27']\n",
            "72 otxeT ed anedaC\n"
          ],
          "name": "stdout"
        }
      ]
    },
    {
      "cell_type": "markdown",
      "metadata": {
        "id": "nN5ddrrDeLri",
        "colab_type": "text"
      },
      "source": [
        "## Operadores"
      ]
    },
    {
      "cell_type": "code",
      "metadata": {
        "id": "h09oGIfIeNy8",
        "colab_type": "code",
        "colab": {
          "base_uri": "https://localhost:8080/",
          "height": 34
        },
        "outputId": "94367044-12c4-4654-a228-5c1dd068e1f7"
      },
      "source": [
        "print(2**3) #potencia"
      ],
      "execution_count": 81,
      "outputs": [
        {
          "output_type": "stream",
          "text": [
            "8\n"
          ],
          "name": "stdout"
        }
      ]
    },
    {
      "cell_type": "code",
      "metadata": {
        "id": "ivNiYvOfeRpj",
        "colab_type": "code",
        "colab": {
          "base_uri": "https://localhost:8080/",
          "height": 68
        },
        "outputId": "3c2913b5-5381-4f8d-cecc-e64f434dc4f7"
      },
      "source": [
        "print(5.0/2.0)\n",
        "print(5.0//2.0)\n",
        "print(5/2)"
      ],
      "execution_count": 84,
      "outputs": [
        {
          "output_type": "stream",
          "text": [
            "2.5\n",
            "2.0\n",
            "2.5\n"
          ],
          "name": "stdout"
        }
      ]
    }
  ]
}
