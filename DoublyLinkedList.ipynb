{
 "cells": [
  {
   "cell_type": "code",
   "execution_count": 1,
   "metadata": {},
   "outputs": [],
   "source": [
    "class Node:\n",
    "    def __init__(self,data):\n",
    "        self.prev = None\n",
    "        self.data = data\n",
    "        self.next = None\n",
    "    \n",
    "    def __str__(self):\n",
    "        s = str(self.data)\n",
    "        s += \" prev:\"+str(hex(id(self.prev)))\n",
    "        s += \" &:\"+str(hex(id(self)))\n",
    "        s += \" next:\"+str(hex(id(self.next)))\n",
    "        return s "
   ]
  },
  {
   "cell_type": "code",
   "execution_count": 4,
   "metadata": {},
   "outputs": [
    {
     "name": "stdout",
     "output_type": "stream",
     "text": [
      "[]\n"
     ]
    }
   ],
   "source": [
    "class DoublyLinkedList:\n",
    "    def __init__(self):\n",
    "        self.first = None\n",
    "        self.last = None\n",
    "    \n",
    "    def push_front(self, data):\n",
    "        pass\n",
    "    \n",
    "    def push_back(self, data):\n",
    "        pass\n",
    "    \n",
    "    def __str__(self):\n",
    "        if self.first is None:\n",
    "            return \"[]\"\n",
    "        else:\n",
    "            aux = self.first\n",
    "            s = \"\"\n",
    "            while aux is not None:\n",
    "                s += aux.__str__() + \", \"\n",
    "                aux = aux.next\n",
    "            return s\n",
    "\n",
    "l = DoublyLinkedList()\n",
    "l.push_back(3)\n",
    "l.push_back(9)\n",
    "l.push_front(2)\n",
    "l.push_front(1)\n",
    "print(l)"
   ]
  },
  {
   "cell_type": "code",
   "execution_count": null,
   "metadata": {},
   "outputs": [],
   "source": []
  }
 ],
 "metadata": {
  "kernelspec": {
   "display_name": "Python 3",
   "language": "python",
   "name": "python3"
  },
  "language_info": {
   "codemirror_mode": {
    "name": "ipython",
    "version": 3
   },
   "file_extension": ".py",
   "mimetype": "text/x-python",
   "name": "python",
   "nbconvert_exporter": "python",
   "pygments_lexer": "ipython3",
   "version": "3.7.6"
  }
 },
 "nbformat": 4,
 "nbformat_minor": 4
}
