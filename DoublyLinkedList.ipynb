{
 "cells": [
  {
   "cell_type": "code",
   "execution_count": 1,
   "metadata": {},
   "outputs": [],
   "source": [
    "class Node:\n",
    "    def __init__(self,data):\n",
    "        self.data = data\n",
    "        self.prev = None\n",
    "        self.next = None\n",
    "    def __str__(self):\n",
    "        return str(self.data)"
   ]
  },
  {
   "cell_type": "code",
   "execution_count": 33,
   "metadata": {},
   "outputs": [],
   "source": [
    "class DoublyLinkedList:\n",
    "    def __init__(self):\n",
    "        self.first = None\n",
    "        self.last = None\n",
    "    \n",
    "    def push_front(self,data):\n",
    "        n = Node(data)\n",
    "        if self.first is None:\n",
    "            self.first = n\n",
    "            self.last = n\n",
    "        else:\n",
    "            n.next = self.first\n",
    "            self.first.prev = n\n",
    "            self.first = n\n",
    "    \n",
    "    def push_back(self,data):\n",
    "        pass\n",
    "    \n",
    "    def pop_front(self,data):\n",
    "        pass\n",
    "    \n",
    "    def pop_back(self,data):\n",
    "        pass\n",
    "    \n",
    "    def __str__(self):\n",
    "        s = \"[\"\n",
    "        aux = self.first\n",
    "        while aux is not None:\n",
    "            s += str(aux.data) + \", \"\n",
    "            aux = aux.next\n",
    "        return s + \"]\"\n",
    "    \n",
    "    def print_reverse(self):\n",
    "        pass\n",
    "    \n",
    "    def remove(self,data):\n",
    "        aux = self.first\n",
    "        while aux is not None:\n",
    "            if aux.data == data:\n",
    "                break\n",
    "            aux = aux.next\n",
    "        if aux is None: return\n",
    "        \n",
    "        if aux.prev is not None:\n",
    "            aux.prev.next = aux.next\n",
    "        if aux.next is not None:\n",
    "            aux.next.prev = aux.prev\n",
    "        \n",
    "        if aux is self.first:\n",
    "            self.first = aux.next\n",
    "        if aux is self.last:\n",
    "            self.last = aux.prev\n",
    "            \n",
    "        aux.next = None\n",
    "        aux.prev = None "
   ]
  },
  {
   "cell_type": "code",
   "execution_count": 34,
   "metadata": {},
   "outputs": [
    {
     "name": "stdout",
     "output_type": "stream",
     "text": [
      "[5, 10, 20, 25, ]\n",
      "[5, 10, 20, ]\n"
     ]
    }
   ],
   "source": [
    "l = DoublyLinkedList()\n",
    "l.push_front(25)\n",
    "l.push_front(20)\n",
    "l.push_front(10)\n",
    "l.push_front(5)\n",
    "print(l)\n",
    "l.remove(25)\n",
    "print(l)"
   ]
  },
  {
   "cell_type": "code",
   "execution_count": null,
   "metadata": {},
   "outputs": [],
   "source": []
  }
 ],
 "metadata": {
  "kernelspec": {
   "display_name": "Python 3",
   "language": "python",
   "name": "python3"
  },
  "language_info": {
   "codemirror_mode": {
    "name": "ipython",
    "version": 3
   },
   "file_extension": ".py",
   "mimetype": "text/x-python",
   "name": "python",
   "nbconvert_exporter": "python",
   "pygments_lexer": "ipython3",
   "version": "3.7.6"
  }
 },
 "nbformat": 4,
 "nbformat_minor": 4
}
