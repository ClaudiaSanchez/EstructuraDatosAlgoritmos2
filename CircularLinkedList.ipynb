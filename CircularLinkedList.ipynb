{
 "cells": [
  {
   "cell_type": "code",
   "execution_count": 2,
   "metadata": {},
   "outputs": [],
   "source": [
    "class Node:\n",
    "    def __init__(self,data):\n",
    "        self.data = data\n",
    "        self.next = None\n",
    "    def __str__(self):\n",
    "        return str(self.data)\n",
    "    "
   ]
  },
  {
   "cell_type": "code",
   "execution_count": 6,
   "metadata": {},
   "outputs": [],
   "source": [
    "class CircularLinkedList:\n",
    "    def __init__(self):\n",
    "        self.head = None\n",
    "    \n",
    "    def insert_head(self,data):\n",
    "        pass\n",
    "    \n",
    "    def insert_tail(self,data):\n",
    "        n = Node(data)\n",
    "        if self.head is None:\n",
    "            self.head = n\n",
    "        else:\n",
    "            aux = self.head\n",
    "            while aux.next is not self.head:\n",
    "                aux = aux.next\n",
    "            aux.next = n\n",
    "        n.next = self.head\n",
    "    \n",
    "    def remove(self,data):\n",
    "        pass\n",
    "    \n",
    "    def __str__(self):\n",
    "        if self.head is None:\n",
    "            return \"[]\"\n",
    "        s = \"[\"\n",
    "        aux = self.head\n",
    "        while True:\n",
    "            s+= str(aux.data)+\", \"\n",
    "            if aux.next is self.head:\n",
    "                break\n",
    "            else:\n",
    "                aux = aux.next\n",
    "        return s + \"]\"\n",
    "    "
   ]
  },
  {
   "cell_type": "code",
   "execution_count": 7,
   "metadata": {},
   "outputs": [
    {
     "name": "stdout",
     "output_type": "stream",
     "text": [
      "[5, 10, 15, ]\n"
     ]
    }
   ],
   "source": [
    "l = CircularLinkedList()\n",
    "l.insert_tail(5)\n",
    "l.insert_tail(10)\n",
    "l.insert_tail(15)\n",
    "print(l)"
   ]
  },
  {
   "cell_type": "code",
   "execution_count": null,
   "metadata": {},
   "outputs": [],
   "source": []
  }
 ],
 "metadata": {
  "kernelspec": {
   "display_name": "Python 3",
   "language": "python",
   "name": "python3"
  },
  "language_info": {
   "codemirror_mode": {
    "name": "ipython",
    "version": 3
   },
   "file_extension": ".py",
   "mimetype": "text/x-python",
   "name": "python",
   "nbconvert_exporter": "python",
   "pygments_lexer": "ipython3",
   "version": "3.7.6"
  }
 },
 "nbformat": 4,
 "nbformat_minor": 4
}
